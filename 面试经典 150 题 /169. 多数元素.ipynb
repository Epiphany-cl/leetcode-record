{
 "cells": [
  {
   "metadata": {},
   "cell_type": "markdown",
   "source": [
    "给定一个大小为 n 的数组 nums ，返回其中的多数元素。多数元素是指在数组中出现次数 大于 ⌊ n/2 ⌋ 的元素。\n",
    "\n",
    "你可以假设数组是非空的，并且给定的数组总是存在多数元素。\n",
    "\n",
    "示例 1：\n",
    "输入：nums = [3,2,3] \n",
    "输出：3\n",
    "\n",
    "示例 2：\n",
    "输入：nums = [2,2,1,1,1,2,2]\n",
    "输出：2"
   ],
   "id": "f4ffb221157785e"
  },
  {
   "metadata": {
    "ExecuteTime": {
     "end_time": "2024-06-20T06:19:39.498975Z",
     "start_time": "2024-06-20T06:19:39.493467Z"
    }
   },
   "cell_type": "code",
   "source": [
    "from collections import defaultdict\n",
    "\n",
    "\n",
    "class Solution:\n",
    "    def majorityElement(self, nums: list[int]) -> int:\n",
    "        dic = defaultdict(int)\n",
    "        for num in nums:\n",
    "            dic[num] += 1\n",
    "            if dic[num] > len(nums) // 2:\n",
    "                return num\n",
    "\n",
    "\n",
    "nums = [2, 2, 1, 1, 1, 2, 2]\n",
    "sol = Solution()\n",
    "ans = sol.majorityElement(nums)\n",
    "print(ans)"
   ],
   "id": "2985fcd70302931b",
   "outputs": [
    {
     "name": "stdout",
     "output_type": "stream",
     "text": [
      "2\n"
     ]
    }
   ],
   "execution_count": 9
  },
  {
   "metadata": {},
   "cell_type": "markdown",
   "source": [
    "上面的属于 哈希表法，除之之外还有排序法，分治、Boyer-Moore投票算法\n",
    "\n",
    "https://leetcode.cn/problems/majority-element/solutions/146074/duo-shu-yuan-su-by-leetcode-solution"
   ],
   "id": "c48372a2b2338172"
  }
 ],
 "metadata": {
  "kernelspec": {
   "display_name": "Python 3",
   "language": "python",
   "name": "python3"
  },
  "language_info": {
   "codemirror_mode": {
    "name": "ipython",
    "version": 2
   },
   "file_extension": ".py",
   "mimetype": "text/x-python",
   "name": "python",
   "nbconvert_exporter": "python",
   "pygments_lexer": "ipython2",
   "version": "2.7.6"
  }
 },
 "nbformat": 4,
 "nbformat_minor": 5
}
