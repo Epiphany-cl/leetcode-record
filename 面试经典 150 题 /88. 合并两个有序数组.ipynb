{
 "cells": [
  {
   "metadata": {},
   "cell_type": "markdown",
   "source": [
    "给你两个按 非递减顺序 排列的整数数组 nums1 和 nums2，另有两个整数 m 和 n ，分别表示 nums1 和 nums2 中的元素数目。\n",
    "请你 合并 nums2 到 nums1 中，使合并后的数组同样按 非递减顺序 排列。<br/>\n",
    "注意：最终，合并后数组不应由函数返回，而是存储在数组 nums1 中。为了应对这种情况，nums1 的初始长度为 m + n，其中前 m 个元素表示应合并的元素，后 n 个元素为 0 ，应忽略。nums2 的长度为 n 。\n",
    "\n",
    "示例：\n",
    "\n",
    "输入：nums1 = [1,2,3,0,0,0], m = 3, nums2 = [2,5,6], n = 3<br/>\n",
    "输出：[1,2,2,3,5,6]<br/>\n",
    "解释：需要合并 [1,2,3] 和 [2,5,6] 。<br/>\n",
    "合并结果是 [1,2,2,3,5,6] ，其中斜体加粗标注的为 nums1 中的元素。<br/>"
   ],
   "id": "bd07b7b83665fdc0"
  },
  {
   "metadata": {
    "ExecuteTime": {
     "end_time": "2024-06-13T11:47:29.947860Z",
     "start_time": "2024-06-13T11:47:29.940253Z"
    }
   },
   "cell_type": "code",
   "source": [
    "nums1 = [1,2,3,0,0,0]\n",
    "m = 3\n",
    "nums2 = [2,5,6]\n",
    "n = 3\n",
    "\n",
    "p1, p2 = m - 1, n - 1\n",
    "tail = m + n - 1\n",
    "while p1 >= 0 or p2 >= 0:\n",
    "    if p1 == -1:\n",
    "        nums1[tail] = nums2[p2]\n",
    "        p2 -= 1\n",
    "    elif p2 == -1:\n",
    "        nums1[tail] = nums1[p1]\n",
    "        p1 -= 1\n",
    "    elif nums1[p1] > nums2[p2]:\n",
    "        nums1[tail] = nums1[p1]\n",
    "        p1 -= 1\n",
    "    else:\n",
    "        nums1[tail] = nums2[p2]\n",
    "        p2 -= 1\n",
    "    tail -= 1\n",
    "print(nums1)"
   ],
   "id": "978d9a14ae1c6968",
   "outputs": [
    {
     "name": "stdout",
     "output_type": "stream",
     "text": [
      "[1, 2, 2, 3, 5, 6]\n"
     ]
    }
   ],
   "execution_count": 1
  }
 ],
 "metadata": {
  "kernelspec": {
   "display_name": "Python 3",
   "language": "python",
   "name": "python3"
  },
  "language_info": {
   "codemirror_mode": {
    "name": "ipython",
    "version": 2
   },
   "file_extension": ".py",
   "mimetype": "text/x-python",
   "name": "python",
   "nbconvert_exporter": "python",
   "pygments_lexer": "ipython2",
   "version": "2.7.6"
  }
 },
 "nbformat": 4,
 "nbformat_minor": 5
}
