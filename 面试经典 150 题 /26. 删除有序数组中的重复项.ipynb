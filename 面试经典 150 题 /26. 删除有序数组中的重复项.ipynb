{
 "cells": [
  {
   "metadata": {},
   "cell_type": "markdown",
   "source": [
    "给你一个 非严格递增排列 的数组 nums ，请你 原地 删除重复出现的元素，使每个元素 只出现一次 ，返回删除后数组的新长度。元素的 相对顺序 应该保持 一致 。然后返回 nums 中唯一元素的个数。\n",
    "\n",
    "考虑 nums 的唯一元素的数量为 k ，你需要做以下事情确保你的题解可以被通过：\n",
    "\n",
    "更改数组 nums ，使 nums 的前 k 个元素包含唯一元素，并按照它们最初在 nums 中出现的顺序排列。nums 的其余元素与 nums 的大小不重要。\n",
    "返回 k 。"
   ],
   "id": "a713e462dc1ab6cf"
  },
  {
   "metadata": {
    "ExecuteTime": {
     "end_time": "2024-06-16T12:51:30.343086Z",
     "start_time": "2024-06-16T12:51:30.338651Z"
    }
   },
   "cell_type": "code",
   "source": [
    "def removeDuplicates(nums: list[int]) -> int:\n",
    "    k = 0\n",
    "    for i in range(len(nums)):\n",
    "        if nums[k] != nums[i]:\n",
    "            k += 1\n",
    "            nums[k] = nums[i]\n",
    "    k += 1\n",
    "    return k\n",
    "\n",
    "\n",
    "nums = [0, 0, 1, 1, 1, 2, 2, 3, 3, 4]\n",
    "k = removeDuplicates(nums)\n",
    "print(nums)\n",
    "print(k)"
   ],
   "id": "bd0bd3c0dc5cbe70",
   "outputs": [
    {
     "name": "stdout",
     "output_type": "stream",
     "text": [
      "[0, 1, 2, 3, 4, 2, 2, 3, 3, 4]\n",
      "5\n"
     ]
    }
   ],
   "execution_count": 2
  },
  {
   "metadata": {},
   "cell_type": "code",
   "outputs": [],
   "execution_count": null,
   "source": "",
   "id": "7f1300150acec5e"
  }
 ],
 "metadata": {
  "kernelspec": {
   "display_name": "Python 3",
   "language": "python",
   "name": "python3"
  },
  "language_info": {
   "codemirror_mode": {
    "name": "ipython",
    "version": 2
   },
   "file_extension": ".py",
   "mimetype": "text/x-python",
   "name": "python",
   "nbconvert_exporter": "python",
   "pygments_lexer": "ipython2",
   "version": "2.7.6"
  }
 },
 "nbformat": 4,
 "nbformat_minor": 5
}
