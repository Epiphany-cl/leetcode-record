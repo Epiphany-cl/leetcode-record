{
 "cells": [
  {
   "metadata": {},
   "cell_type": "markdown",
   "source": [
    "给你两个字符串 haystack 和 needle ，请你在 haystack 字符串中找出 needle 字符串的第一个匹配项的下标（下标从 0 开始）。如果 needle 不是 haystack 的一部分，则返回  -1 。\n",
    "示例 1：\n",
    "\n",
    "输入：haystack = \"sadbutsad\", needle = \"sad\"\n",
    "输出：0\n",
    "解释：\"sad\" 在下标 0 和 6 处匹配。\n",
    "第一个匹配项的下标是 0 ，所以返回 0 。\n",
    "示例 2：\n",
    "\n",
    "输入：haystack = \"leetcode\", needle = \"leeto\"\n",
    "输出：-1\n",
    "解释：\"leeto\" 没有在 \"leetcode\" 中出现，所以返回 -1 。"
   ],
   "id": "21d00b1f9f844ded"
  },
  {
   "metadata": {},
   "cell_type": "code",
   "outputs": [],
   "execution_count": null,
   "source": [
    "class Solution:\n",
    "    def strStr(self, haystack: str, needle: str) -> int:\n",
    "        n, m = len(needle), len(haystack)\n",
    "        s = needle + '#' + haystack\n",
    "        pi = [0] * len(s)\n",
    "        for i in range(1, len(s)):\n",
    "            length = pi[i - 1]\n",
    "            while length and s[i] != s[length]:\n",
    "                length = pi[length - 1]\n",
    "            if s[i] == s[length]:\n",
    "                pi[i] = length + 1\n",
    "                if pi[i] == n:\n",
    "                    return i - n * 2\n",
    "        return -1\n"
   ],
   "id": "e3ad49f1a406d66b"
  }
 ],
 "metadata": {
  "kernelspec": {
   "display_name": "Python 3",
   "language": "python",
   "name": "python3"
  },
  "language_info": {
   "codemirror_mode": {
    "name": "ipython",
    "version": 2
   },
   "file_extension": ".py",
   "mimetype": "text/x-python",
   "name": "python",
   "nbconvert_exporter": "python",
   "pygments_lexer": "ipython2",
   "version": "2.7.6"
  }
 },
 "nbformat": 4,
 "nbformat_minor": 5
}
